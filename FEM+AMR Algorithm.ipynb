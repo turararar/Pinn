{
 "cells": [
  {
   "cell_type": "markdown",
   "id": "063ec6ea-fb13-4bf5-aef1-504d51540962",
   "metadata": {},
   "source": [
    "### Solving Poisson PDE in 2D using FEM + AMR\n"
   ]
  },
  {
   "cell_type": "markdown",
   "id": "29ad2219-029c-4708-a315-4ce1b0a10474",
   "metadata": {},
   "source": [
    "Starting with uploading nessesary libraries"
   ]
  },
  {
   "cell_type": "code",
   "execution_count": 2,
   "id": "a7a40ba8-4d6c-4461-888e-4acd7ad213a7",
   "metadata": {},
   "outputs": [],
   "source": [
    "using Gridap, Gridap.Geometry, Gridap.Adaptivity\n",
    "using DataStructures"
   ]
  },
  {
   "cell_type": "markdown",
   "id": "9945cfc9-75e1-4fae-b02c-e1149a291a45",
   "metadata": {},
   "source": [
    "Define analytical solution"
   ]
  },
  {
   "cell_type": "code",
   "execution_count": 3,
   "id": "594b945b-f854-446f-a294-006387116ab8",
   "metadata": {},
   "outputs": [
    {
     "data": {
      "text/plain": [
       "u_exact (generic function with 1 method)"
      ]
     },
     "execution_count": 3,
     "metadata": {},
     "output_type": "execute_result"
    }
   ],
   "source": [
    "# Analytical solution: u_exact(x,y) = exp(-10 * x^2 -10 * y^2)\n",
    "u_exact(x) = exp(-10 * x[1]^2 -10 * x[2]^2)\n"
   ]
  },
  {
   "cell_type": "markdown",
   "id": "4709ba78-c0e2-48e7-a223-910ccb7ef951",
   "metadata": {},
   "source": [
    "Define domain and boundary conditions\n"
   ]
  },
  {
   "cell_type": "code",
   "execution_count": 4,
   "id": "8149ba4e-92e7-427d-af90-26d03048ab30",
   "metadata": {},
   "outputs": [
    {
     "data": {
      "text/plain": [
       "UnstructuredDiscreteModel()"
      ]
     },
     "execution_count": 4,
     "metadata": {},
     "output_type": "execute_result"
    }
   ],
   "source": [
    "#Domain definition\n",
    "domain = (-2, 2, -2, 2)\n",
    "n_cells = (10, 10)  # initial mesh resolution\n",
    "model = simplexify(CartesianDiscreteModel(domain, n_cells))"
   ]
  },
  {
   "cell_type": "markdown",
   "id": "e6c2f507-4c59-4c79-8eed-c9f59894a5e7",
   "metadata": {},
   "source": [
    "Define L$^2$ norm for error estimation"
   ]
  },
  {
   "cell_type": "code",
   "execution_count": 5,
   "id": "58bd3f8d-6707-4191-91d1-976dbf94146a",
   "metadata": {},
   "outputs": [
    {
     "data": {
      "text/plain": [
       "l2_norm (generic function with 2 methods)"
      ]
     },
     "execution_count": 5,
     "metadata": {},
     "output_type": "execute_result"
    }
   ],
   "source": [
    "l2_norm(he,xh,dΩ) = ∫(he*(xh*xh))*dΩ\n",
    "l2_norm(xh,dΩ) = ∫(xh*xh)*dΩ\n"
   ]
  },
  {
   "cell_type": "markdown",
   "id": "0bb026df-45c2-464c-ace7-c798c165a381",
   "metadata": {},
   "source": [
    "AMR step function. Basically, this block represent one full iteration of adaptive mesh refinement process. Here we solve our equation on the given mesh, then according to DoflerMarking and residual error value we refine the mesh and return new model(mesh), approximated solution, residual error and absolute error values."
   ]
  },
  {
   "cell_type": "code",
   "execution_count": 6,
   "id": "f3142849-8810-4dd3-943b-99c4909ae0c0",
   "metadata": {},
   "outputs": [
    {
     "data": {
      "text/plain": [
       "amr_step (generic function with 1 method)"
      ]
     },
     "execution_count": 6,
     "metadata": {},
     "output_type": "execute_result"
    }
   ],
   "source": [
    "#AMR step function\n",
    "\n",
    "function amr_step(model,u_exact;order=2)\n",
    "  #\"Create FE spaces with Dirichlet boundary conditions on all boundaries\"\n",
    "  reffe = ReferenceFE(lagrangian,Float64,order)\n",
    "  V = TestFESpace(model,reffe;dirichlet_tags=[\"boundary\"])\n",
    "  U = TrialFESpace(V,u_exact)\n",
    "\n",
    "  #\"Setup integration measures\"\n",
    "  Ω = Triangulation(model)\n",
    "  Γ = Boundary(model)\n",
    "  Λ = Skeleton(model)\n",
    "\n",
    "  dΩ = Measure(Ω,4*order)\n",
    "  dΓ = Measure(Γ,2*order)\n",
    "  dΛ = Measure(Λ,2*order)\n",
    "\n",
    "  \"Compute cell sizes for error estimation\"\n",
    "  hK = CellField(sqrt.(collect(get_array(∫(1)dΩ))),Ω)\n",
    "\n",
    "  \"Get normal vectors for boundary and interface terms\"\n",
    "  nΓ = get_normal_vector(Γ)\n",
    "  nΛ = get_normal_vector(Λ)\n",
    "\n",
    "  \"Define the weak form\"\n",
    "  ∇u(x)  = ∇(u_exact)(x)\n",
    "  f(x)   = 40*(10(x[1]^2 + x[2]^2) - 1)*exp(-10 * x[1]^2 -10 * x[2]^2)\n",
    "  a(u,v) = (-1)*∫(∇(u)⋅∇(v))dΩ\n",
    "  l(v)   = ∫(f*v)dΩ\n",
    "\n",
    "  \"Define the residual error estimator\n",
    "  It includes volume residual, boundary jump, and interface jump terms\"\n",
    "  ηh(u)  = l2_norm(hK*(f + Δ(u)),dΩ) +           # Volume residual\n",
    "           l2_norm(hK*(∇(u) - ∇u)⋅nΓ,dΓ) +       # Boundary jump\n",
    "           l2_norm(jump(hK*∇(u)⋅nΛ),dΛ)          # Interface jump\n",
    "\n",
    "  \"Solve the FE problem\"\n",
    "  op = AffineFEOperator(a,l,U,V)\n",
    "  uh = solve(op)\n",
    "\n",
    "  \"Compute error indicators\"\n",
    "  η = estimate(ηh,uh)\n",
    "\n",
    "  \"Mark cells for refinement using Dörfler marking\n",
    "  This strategy marks cells containing a fixed fraction (0.9) of the total error\"\n",
    "  m = DorflerMarking(0.9)\n",
    "  I = Adaptivity.mark(m,η)\n",
    "\n",
    "  \"Refine the mesh using newest vertex bisection\"\n",
    "  method = Adaptivity.NVBRefinement(model)\n",
    "  amodel = refine(method,model;cells_to_refine=I)\n",
    "  fmodel = Adaptivity.get_model(amodel)\n",
    "\n",
    "  \"Compute the global error for convergence testing\"\n",
    "  error = sum(l2_norm(uh - u_exact,dΩ))\n",
    "  return fmodel, uh, η, I, error\n",
    "end"
   ]
  },
  {
   "cell_type": "markdown",
   "id": "ba9c4a2d-a121-45fe-a78c-c1b403bd0914",
   "metadata": {},
   "source": [
    "Now set maximal iterations value and order that will affect basic functions(Lagrange polynom degree) and measures."
   ]
  },
  {
   "cell_type": "code",
   "execution_count": 7,
   "id": "90c4de1f-8913-4d40-a458-676f1304f236",
   "metadata": {},
   "outputs": [
    {
     "data": {
      "text/plain": [
       "2"
      ]
     },
     "execution_count": 7,
     "metadata": {},
     "output_type": "execute_result"
    }
   ],
   "source": [
    "nsteps = 5\n",
    "order = 2\n"
   ]
  },
  {
   "cell_type": "markdown",
   "id": "fd5a5693-d5f8-4e53-87e1-3dd41f5e6ab6",
   "metadata": {},
   "source": [
    "Here is the iterative algorithm that calls our function above and iteratively refines our map"
   ]
  },
  {
   "cell_type": "code",
   "execution_count": 8,
   "id": "af621889-914a-45b5-b846-0d556c0de6dc",
   "metadata": {},
   "outputs": [
    {
     "name": "stdout",
     "output_type": "stream",
     "text": [
      "Error: 0.0009620832295332464, Error η: 16.646355144656347\n",
      "Error: 0.0002139425978642257, Error η: 12.35201692761035\n",
      "Error: 4.09737794781507e-5, Error η: 9.247794030703847\n",
      "Error: 1.498397484009759e-5, Error η: 5.558463038973415\n",
      "Error: 1.9991985829972445e-6, Error η: 2.9232022215267826\n"
     ]
    }
   ],
   "source": [
    "last_error = Inf\n",
    "for i in 1:nsteps\n",
    "  fmodel, uh, η, I, error = amr_step(model,u_exact;order)\n",
    "\n",
    "  is_refined = map(i -> ifelse(i ∈ I, 1, -1), 1:num_cells(model))\n",
    "\n",
    "  Ω = Triangulation(model)\n",
    "  writevtk(\n",
    "    Ω,\"model_$(i-1)\",append=false,\n",
    "    cellfields = [\n",
    "      \"uh\" => uh,                    # Computed solution\n",
    "     \"η\" => CellField(η,Ω),        # Error indicators\n",
    "      \"is_refined\" => CellField(is_refined,Ω),  # Refinement markers\n",
    "      \"u_exact\" => CellField(u_exact,Ω),       # Exact solution\n",
    "    ],\n",
    "  )\n",
    "\n",
    "  println(\"Error: $error, Error η: $(sum(η))\")\n",
    "  last_error = error\n",
    "  model = fmodel\n",
    "end"
   ]
  }
 ],
 "metadata": {
  "kernelspec": {
   "display_name": "Julia 1.11.4",
   "language": "julia",
   "name": "julia-1.11"
  },
  "language_info": {
   "file_extension": ".jl",
   "mimetype": "application/julia",
   "name": "julia",
   "version": "1.11.4"
  }
 },
 "nbformat": 4,
 "nbformat_minor": 5
}
